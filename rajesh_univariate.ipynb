{
 "cells": [
  {
   "cell_type": "code",
   "execution_count": 1,
   "id": "2d44a718",
   "metadata": {},
   "outputs": [],
   "source": [
    "%config Completer.use_jedi = False"
   ]
  },
  {
   "cell_type": "code",
   "execution_count": 2,
   "id": "e4fe29ab",
   "metadata": {},
   "outputs": [],
   "source": [
    "import numpy as np\n",
    "import pandas as pd\n",
    "from tensorflow.keras.models import Sequential\n",
    "from tensorflow.keras.layers import LSTM\n",
    "from tensorflow.keras.layers import Dense\n",
    "from tensorflow.keras.layers import Flatten\n",
    "from numpy.random import seed\n",
    "seed(1)"
   ]
  },
  {
   "cell_type": "code",
   "execution_count": 3,
   "id": "f30b1d85",
   "metadata": {},
   "outputs": [
    {
     "data": {
      "text/html": [
       "<div>\n",
       "<style scoped>\n",
       "    .dataframe tbody tr th:only-of-type {\n",
       "        vertical-align: middle;\n",
       "    }\n",
       "\n",
       "    .dataframe tbody tr th {\n",
       "        vertical-align: top;\n",
       "    }\n",
       "\n",
       "    .dataframe thead th {\n",
       "        text-align: right;\n",
       "    }\n",
       "</style>\n",
       "<table border=\"1\" class=\"dataframe\">\n",
       "  <thead>\n",
       "    <tr style=\"text-align: right;\">\n",
       "      <th></th>\n",
       "      <th>Well</th>\n",
       "      <th>Well_Type</th>\n",
       "      <th>WaterRate</th>\n",
       "      <th>CasingHeadPressure</th>\n",
       "      <th>TubingHeadPressure</th>\n",
       "      <th>PumpSpeed</th>\n",
       "      <th>Torque</th>\n",
       "      <th>GasRate</th>\n",
       "    </tr>\n",
       "    <tr>\n",
       "      <th>Date</th>\n",
       "      <th></th>\n",
       "      <th></th>\n",
       "      <th></th>\n",
       "      <th></th>\n",
       "      <th></th>\n",
       "      <th></th>\n",
       "      <th></th>\n",
       "      <th></th>\n",
       "    </tr>\n",
       "  </thead>\n",
       "  <tbody>\n",
       "    <tr>\n",
       "      <th>2015-01-10</th>\n",
       "      <td>Well 10</td>\n",
       "      <td>Pre-perf</td>\n",
       "      <td>192.00</td>\n",
       "      <td>51.00</td>\n",
       "      <td>38.00</td>\n",
       "      <td>63.00</td>\n",
       "      <td>235.00</td>\n",
       "      <td>2.00</td>\n",
       "    </tr>\n",
       "    <tr>\n",
       "      <th>2015-01-11</th>\n",
       "      <td>Well 10</td>\n",
       "      <td>Pre-perf</td>\n",
       "      <td>308.00</td>\n",
       "      <td>43.00</td>\n",
       "      <td>31.00</td>\n",
       "      <td>67.00</td>\n",
       "      <td>235.00</td>\n",
       "      <td>37.00</td>\n",
       "    </tr>\n",
       "    <tr>\n",
       "      <th>2015-01-12</th>\n",
       "      <td>Well 10</td>\n",
       "      <td>Pre-perf</td>\n",
       "      <td>308.00</td>\n",
       "      <td>41.00</td>\n",
       "      <td>31.00</td>\n",
       "      <td>67.00</td>\n",
       "      <td>239.00</td>\n",
       "      <td>59.00</td>\n",
       "    </tr>\n",
       "    <tr>\n",
       "      <th>2015-01-13</th>\n",
       "      <td>Well 10</td>\n",
       "      <td>Pre-perf</td>\n",
       "      <td>309.09</td>\n",
       "      <td>40.53</td>\n",
       "      <td>29.90</td>\n",
       "      <td>67.04</td>\n",
       "      <td>238.86</td>\n",
       "      <td>59.69</td>\n",
       "    </tr>\n",
       "    <tr>\n",
       "      <th>2015-01-14</th>\n",
       "      <td>Well 10</td>\n",
       "      <td>Pre-perf</td>\n",
       "      <td>308.18</td>\n",
       "      <td>40.46</td>\n",
       "      <td>29.84</td>\n",
       "      <td>67.06</td>\n",
       "      <td>236.16</td>\n",
       "      <td>56.57</td>\n",
       "    </tr>\n",
       "  </tbody>\n",
       "</table>\n",
       "</div>"
      ],
      "text/plain": [
       "               Well Well_Type  WaterRate  CasingHeadPressure  \\\n",
       "Date                                                           \n",
       "2015-01-10  Well 10  Pre-perf     192.00               51.00   \n",
       "2015-01-11  Well 10  Pre-perf     308.00               43.00   \n",
       "2015-01-12  Well 10  Pre-perf     308.00               41.00   \n",
       "2015-01-13  Well 10  Pre-perf     309.09               40.53   \n",
       "2015-01-14  Well 10  Pre-perf     308.18               40.46   \n",
       "\n",
       "            TubingHeadPressure  PumpSpeed  Torque  GasRate  \n",
       "Date                                                        \n",
       "2015-01-10               38.00      63.00  235.00     2.00  \n",
       "2015-01-11               31.00      67.00  235.00    37.00  \n",
       "2015-01-12               31.00      67.00  239.00    59.00  \n",
       "2015-01-13               29.90      67.04  238.86    59.69  \n",
       "2015-01-14               29.84      67.06  236.16    56.57  "
      ]
     },
     "execution_count": 3,
     "metadata": {},
     "output_type": "execute_result"
    }
   ],
   "source": [
    "data = pd.read_csv(\"../Resources/Prod_Forecast.csv\", parse_dates=['Date'], index_col='Date', dayfirst=True)\n",
    "data.head()"
   ]
  },
  {
   "cell_type": "code",
   "execution_count": 4,
   "id": "d7c94a2b",
   "metadata": {},
   "outputs": [],
   "source": [
    "data = data[data.Well == \"Well 15\"]"
   ]
  },
  {
   "cell_type": "code",
   "execution_count": 5,
   "id": "8aae41ff",
   "metadata": {},
   "outputs": [
    {
     "data": {
      "text/html": [
       "<div>\n",
       "<style scoped>\n",
       "    .dataframe tbody tr th:only-of-type {\n",
       "        vertical-align: middle;\n",
       "    }\n",
       "\n",
       "    .dataframe tbody tr th {\n",
       "        vertical-align: top;\n",
       "    }\n",
       "\n",
       "    .dataframe thead th {\n",
       "        text-align: right;\n",
       "    }\n",
       "</style>\n",
       "<table border=\"1\" class=\"dataframe\">\n",
       "  <thead>\n",
       "    <tr style=\"text-align: right;\">\n",
       "      <th></th>\n",
       "      <th>Well</th>\n",
       "      <th>Well_Type</th>\n",
       "      <th>WaterRate</th>\n",
       "      <th>CasingHeadPressure</th>\n",
       "      <th>TubingHeadPressure</th>\n",
       "      <th>PumpSpeed</th>\n",
       "      <th>Torque</th>\n",
       "      <th>GasRate</th>\n",
       "    </tr>\n",
       "    <tr>\n",
       "      <th>Date</th>\n",
       "      <th></th>\n",
       "      <th></th>\n",
       "      <th></th>\n",
       "      <th></th>\n",
       "      <th></th>\n",
       "      <th></th>\n",
       "      <th></th>\n",
       "      <th></th>\n",
       "    </tr>\n",
       "  </thead>\n",
       "  <tbody>\n",
       "    <tr>\n",
       "      <th>2014-09-30</th>\n",
       "      <td>Well 15</td>\n",
       "      <td>Pre-perf</td>\n",
       "      <td>0.0</td>\n",
       "      <td>364.0</td>\n",
       "      <td>336.0</td>\n",
       "      <td>100.0</td>\n",
       "      <td>98.0</td>\n",
       "      <td>0.0</td>\n",
       "    </tr>\n",
       "    <tr>\n",
       "      <th>2014-10-01</th>\n",
       "      <td>Well 15</td>\n",
       "      <td>Pre-perf</td>\n",
       "      <td>336.0</td>\n",
       "      <td>364.0</td>\n",
       "      <td>336.0</td>\n",
       "      <td>70.0</td>\n",
       "      <td>257.0</td>\n",
       "      <td>24.0</td>\n",
       "    </tr>\n",
       "    <tr>\n",
       "      <th>2014-10-02</th>\n",
       "      <td>Well 15</td>\n",
       "      <td>Pre-perf</td>\n",
       "      <td>388.0</td>\n",
       "      <td>31.0</td>\n",
       "      <td>3.0</td>\n",
       "      <td>85.0</td>\n",
       "      <td>257.0</td>\n",
       "      <td>38.0</td>\n",
       "    </tr>\n",
       "    <tr>\n",
       "      <th>2014-10-03</th>\n",
       "      <td>Well 15</td>\n",
       "      <td>Pre-perf</td>\n",
       "      <td>363.0</td>\n",
       "      <td>55.0</td>\n",
       "      <td>56.0</td>\n",
       "      <td>99.0</td>\n",
       "      <td>257.0</td>\n",
       "      <td>55.0</td>\n",
       "    </tr>\n",
       "    <tr>\n",
       "      <th>2014-10-04</th>\n",
       "      <td>Well 15</td>\n",
       "      <td>Pre-perf</td>\n",
       "      <td>646.0</td>\n",
       "      <td>56.0</td>\n",
       "      <td>56.0</td>\n",
       "      <td>178.0</td>\n",
       "      <td>258.0</td>\n",
       "      <td>54.0</td>\n",
       "    </tr>\n",
       "  </tbody>\n",
       "</table>\n",
       "</div>"
      ],
      "text/plain": [
       "               Well Well_Type  WaterRate  CasingHeadPressure  \\\n",
       "Date                                                           \n",
       "2014-09-30  Well 15  Pre-perf        0.0               364.0   \n",
       "2014-10-01  Well 15  Pre-perf      336.0               364.0   \n",
       "2014-10-02  Well 15  Pre-perf      388.0                31.0   \n",
       "2014-10-03  Well 15  Pre-perf      363.0                55.0   \n",
       "2014-10-04  Well 15  Pre-perf      646.0                56.0   \n",
       "\n",
       "            TubingHeadPressure  PumpSpeed  Torque  GasRate  \n",
       "Date                                                        \n",
       "2014-09-30               336.0      100.0    98.0      0.0  \n",
       "2014-10-01               336.0       70.0   257.0     24.0  \n",
       "2014-10-02                 3.0       85.0   257.0     38.0  \n",
       "2014-10-03                56.0       99.0   257.0     55.0  \n",
       "2014-10-04                56.0      178.0   258.0     54.0  "
      ]
     },
     "execution_count": 5,
     "metadata": {},
     "output_type": "execute_result"
    }
   ],
   "source": [
    "data.head()"
   ]
  },
  {
   "cell_type": "code",
   "execution_count": 6,
   "id": "9313d537",
   "metadata": {},
   "outputs": [
    {
     "name": "stdout",
     "output_type": "stream",
     "text": [
      "<class 'pandas.core.frame.DataFrame'>\n",
      "DatetimeIndex: 1220 entries, 2014-09-30 to 2018-12-30\n",
      "Data columns (total 8 columns):\n",
      " #   Column              Non-Null Count  Dtype  \n",
      "---  ------              --------------  -----  \n",
      " 0   Well                1220 non-null   object \n",
      " 1   Well_Type           1220 non-null   object \n",
      " 2   WaterRate           1220 non-null   float64\n",
      " 3   CasingHeadPressure  1220 non-null   float64\n",
      " 4   TubingHeadPressure  1220 non-null   float64\n",
      " 5   PumpSpeed           1220 non-null   float64\n",
      " 6   Torque              1220 non-null   float64\n",
      " 7   GasRate             1220 non-null   float64\n",
      "dtypes: float64(6), object(2)\n",
      "memory usage: 85.8+ KB\n"
     ]
    }
   ],
   "source": [
    "data.info()"
   ]
  },
  {
   "cell_type": "code",
   "execution_count": 7,
   "id": "b3b4834c",
   "metadata": {},
   "outputs": [],
   "source": [
    "df =data.iloc[:,7:]\n"
   ]
  },
  {
   "cell_type": "code",
   "execution_count": 8,
   "id": "b3e9c20f",
   "metadata": {},
   "outputs": [
    {
     "data": {
      "text/plain": [
       "1220"
      ]
     },
     "execution_count": 8,
     "metadata": {},
     "output_type": "execute_result"
    }
   ],
   "source": [
    "len(df)"
   ]
  },
  {
   "cell_type": "code",
   "execution_count": 9,
   "id": "3061b398",
   "metadata": {},
   "outputs": [
    {
     "data": {
      "text/html": [
       "<div>\n",
       "<style scoped>\n",
       "    .dataframe tbody tr th:only-of-type {\n",
       "        vertical-align: middle;\n",
       "    }\n",
       "\n",
       "    .dataframe tbody tr th {\n",
       "        vertical-align: top;\n",
       "    }\n",
       "\n",
       "    .dataframe thead th {\n",
       "        text-align: right;\n",
       "    }\n",
       "</style>\n",
       "<table border=\"1\" class=\"dataframe\">\n",
       "  <thead>\n",
       "    <tr style=\"text-align: right;\">\n",
       "      <th></th>\n",
       "      <th>GasRate</th>\n",
       "    </tr>\n",
       "    <tr>\n",
       "      <th>Date</th>\n",
       "      <th></th>\n",
       "    </tr>\n",
       "  </thead>\n",
       "  <tbody>\n",
       "    <tr>\n",
       "      <th>2014-09-30</th>\n",
       "      <td>0.00</td>\n",
       "    </tr>\n",
       "    <tr>\n",
       "      <th>2014-10-01</th>\n",
       "      <td>24.00</td>\n",
       "    </tr>\n",
       "    <tr>\n",
       "      <th>2014-10-02</th>\n",
       "      <td>38.00</td>\n",
       "    </tr>\n",
       "    <tr>\n",
       "      <th>2014-10-03</th>\n",
       "      <td>55.00</td>\n",
       "    </tr>\n",
       "    <tr>\n",
       "      <th>2014-10-04</th>\n",
       "      <td>54.00</td>\n",
       "    </tr>\n",
       "    <tr>\n",
       "      <th>...</th>\n",
       "      <td>...</td>\n",
       "    </tr>\n",
       "    <tr>\n",
       "      <th>2018-12-26</th>\n",
       "      <td>1557.62</td>\n",
       "    </tr>\n",
       "    <tr>\n",
       "      <th>2018-12-27</th>\n",
       "      <td>1523.56</td>\n",
       "    </tr>\n",
       "    <tr>\n",
       "      <th>2018-12-28</th>\n",
       "      <td>1536.20</td>\n",
       "    </tr>\n",
       "    <tr>\n",
       "      <th>2018-12-29</th>\n",
       "      <td>1530.05</td>\n",
       "    </tr>\n",
       "    <tr>\n",
       "      <th>2018-12-30</th>\n",
       "      <td>1543.83</td>\n",
       "    </tr>\n",
       "  </tbody>\n",
       "</table>\n",
       "<p>1220 rows × 1 columns</p>\n",
       "</div>"
      ],
      "text/plain": [
       "            GasRate\n",
       "Date               \n",
       "2014-09-30     0.00\n",
       "2014-10-01    24.00\n",
       "2014-10-02    38.00\n",
       "2014-10-03    55.00\n",
       "2014-10-04    54.00\n",
       "...             ...\n",
       "2018-12-26  1557.62\n",
       "2018-12-27  1523.56\n",
       "2018-12-28  1536.20\n",
       "2018-12-29  1530.05\n",
       "2018-12-30  1543.83\n",
       "\n",
       "[1220 rows x 1 columns]"
      ]
     },
     "execution_count": 9,
     "metadata": {},
     "output_type": "execute_result"
    }
   ],
   "source": [
    "df"
   ]
  },
  {
   "cell_type": "code",
   "execution_count": 10,
   "id": "0f960e17",
   "metadata": {},
   "outputs": [
    {
     "data": {
      "text/plain": [
       "<AxesSubplot:xlabel='Date'>"
      ]
     },
     "execution_count": 10,
     "metadata": {},
     "output_type": "execute_result"
    },
    {
     "data": {
      "image/png": "[encoded data removed]",
      "text/plain": [
       "<Figure size 432x288 with 1 Axes>"
      ]
     },
     "metadata": {
      "needs_background": "light"
     },
     "output_type": "display_data"
    }
   ],
   "source": [
    "df.plot()"
   ]
  },
  {
   "cell_type": "code",
   "execution_count": 11,
   "id": "2cd31bd9",
   "metadata": {},
   "outputs": [],
   "source": [
    "from statsmodels.tsa.seasonal import seasonal_decompose"
   ]
  },
  {
   "cell_type": "code",
   "execution_count": 12,
   "id": "d88c72d6",
   "metadata": {},
   "outputs": [
    {
     "data": {
      "image/png": "[encoded data removed]",
      "text/plain": [
       "<Figure size 432x288 with 4 Axes>"
      ]
     },
     "metadata": {
      "needs_background": "light"
     },
     "output_type": "display_data"
    }
   ],
   "source": [
    "results = seasonal_decompose(df['GasRate'], period = 3)\n",
    "results.plot();"
   ]
  },
  {
   "cell_type": "code",
   "execution_count": 13,
   "id": "e89a69b4",
   "metadata": {},
   "outputs": [
    {
     "data": {
      "text/plain": [
       "1220"
      ]
     },
     "execution_count": 13,
     "metadata": {},
     "output_type": "execute_result"
    }
   ],
   "source": [
    "\n",
    "## train_test_split \n",
    "# note that we don't split randomly \n",
    "len(df)"
   ]
  },
  {
   "cell_type": "code",
   "execution_count": 14,
   "id": "74ef3fb0",
   "metadata": {},
   "outputs": [],
   "source": [
    "length_data = 30\n",
    "train_data = df[: len(df)-length_data]\n",
    "test_data = df[-length_data:]"
   ]
  },
  {
   "cell_type": "code",
   "execution_count": 15,
   "id": "afd5361d",
   "metadata": {},
   "outputs": [
    {
     "data": {
      "text/plain": [
       "1190"
      ]
     },
     "execution_count": 15,
     "metadata": {},
     "output_type": "execute_result"
    }
   ],
   "source": [
    "len(train_data)"
   ]
  },
  {
   "cell_type": "code",
   "execution_count": 16,
   "id": "272a7098",
   "metadata": {},
   "outputs": [
    {
     "data": {
      "text/plain": [
       "30"
      ]
     },
     "execution_count": 16,
     "metadata": {},
     "output_type": "execute_result"
    }
   ],
   "source": [
    "\n",
    "len(test_data)"
   ]
  },
  {
   "cell_type": "code",
   "execution_count": 17,
   "id": "5c4a2de4",
   "metadata": {},
   "outputs": [],
   "source": [
    "# scale data\n",
    "from sklearn.preprocessing import MinMaxScaler\n",
    "scaler = MinMaxScaler()\n",
    "scaler.fit(train_data)\n",
    "train_scaled_data = scaler.transform(train_data)\n",
    "test_scaled_data = scaler.transform(test_data)"
   ]
  },
  {
   "cell_type": "code",
   "execution_count": 18,
   "id": "bb37ef60",
   "metadata": {},
   "outputs": [],
   "source": [
    "# create the time series generator \n",
    "from tensorflow.keras.preprocessing.sequence import TimeseriesGenerator"
   ]
  },
  {
   "cell_type": "code",
   "execution_count": 19,
   "id": "daf90dd7",
   "metadata": {},
   "outputs": [],
   "source": [
    "batch_size = 1\n",
    "length=12\n",
    "generator = TimeseriesGenerator(train_scaled_data, train_scaled_data, length=length, batch_size=batch_size)"
   ]
  },
  {
   "cell_type": "code",
   "execution_count": 20,
   "id": "21ec2e87",
   "metadata": {},
   "outputs": [],
   "source": [
    "x,y = generator[0]"
   ]
  },
  {
   "cell_type": "code",
   "execution_count": 21,
   "id": "0dd6b048",
   "metadata": {},
   "outputs": [
    {
     "name": "stdout",
     "output_type": "stream",
     "text": [
      "Given the Array: \n",
      "[0.         0.01284838 0.02034327 0.0294442  0.02890885 0.02890885\n",
      " 0.01286979 0.03426234 0.03345397 0.01713117 0.01766652 0.01657441]\n",
      "Predict this y: \n",
      " [[0.01468463]]\n"
     ]
    }
   ],
   "source": [
    "print(f'Given the Array: \\n{x.flatten()}')\n",
    "print(f'Predict this y: \\n {y}')"
   ]
  },
  {
   "cell_type": "code",
   "execution_count": 22,
   "id": "57838d7d",
   "metadata": {},
   "outputs": [
    {
     "data": {
      "text/plain": [
       "array([[0.01468463]])"
      ]
     },
     "execution_count": 22,
     "metadata": {},
     "output_type": "execute_result"
    }
   ],
   "source": [
    "y"
   ]
  },
  {
   "cell_type": "code",
   "execution_count": 23,
   "id": "b62b1973",
   "metadata": {},
   "outputs": [
    {
     "data": {
      "text/plain": [
       "array([[[0.        ],\n",
       "        [0.01284838],\n",
       "        [0.02034327],\n",
       "        [0.0294442 ],\n",
       "        [0.02890885],\n",
       "        [0.02890885],\n",
       "        [0.01286979],\n",
       "        [0.03426234],\n",
       "        [0.03345397],\n",
       "        [0.01713117],\n",
       "        [0.01766652],\n",
       "        [0.01657441]]])"
      ]
     },
     "execution_count": 23,
     "metadata": {},
     "output_type": "execute_result"
    }
   ],
   "source": [
    "x"
   ]
  },
  {
   "cell_type": "markdown",
   "id": "035ae356",
   "metadata": {},
   "source": [
    "## create model"
   ]
  },
  {
   "cell_type": "code",
   "execution_count": 24,
   "id": "bad6bb4a",
   "metadata": {},
   "outputs": [
    {
     "name": "stdout",
     "output_type": "stream",
     "text": [
      "Model: \"sequential\"\n",
      "_________________________________________________________________\n",
      "Layer (type)                 Output Shape              Param #   \n",
      "=================================================================\n",
      "lstm (LSTM)                  (None, 200)               161600    \n",
      "_________________________________________________________________\n",
      "dense (Dense)                (None, 1)                 201       \n",
      "=================================================================\n",
      "Total params: 161,801\n",
      "Trainable params: 161,801\n",
      "Non-trainable params: 0\n",
      "_________________________________________________________________\n"
     ]
    }
   ],
   "source": [
    "num_features = 1 \n",
    "length= 12\n",
    "model = Sequential()\n",
    "model.add(LSTM(200, activation = 'relu', input_shape = (length, num_features))) # 200 neurons\n",
    "model.add(Dense(1)) # we need to predict only the next value \n",
    "\n",
    "model.compile(optimizer='adam', loss='mse') # mse for continuous data \n",
    "model.summary()"
   ]
  },
  {
   "cell_type": "code",
   "execution_count": 25,
   "id": "791574ba",
   "metadata": {},
   "outputs": [],
   "source": [
    "# create an earlystop and validation generator to start training\n",
    "from tensorflow.keras.callbacks import EarlyStopping\n",
    "\n",
    "early_stop = EarlyStopping(monitor='val_loss', patience=3)\n",
    "val_generator = TimeseriesGenerator(test_scaled_data, test_scaled_data, length=length, batch_size=batch_size)"
   ]
  },
  {
   "cell_type": "code",
   "execution_count": 26,
   "id": "3a5f22b3",
   "metadata": {},
   "outputs": [
    {
     "name": "stdout",
     "output_type": "stream",
     "text": [
      "WARNING:tensorflow:From <ipython-input-26-9050fc5a7e01>:1: Model.fit_generator (from tensorflow.python.keras.engine.training) is deprecated and will be removed in a future version.\n",
      "Instructions for updating:\n",
      "Please use Model.fit, which supports generators.\n",
      "Epoch 1/10\n",
      "1178/1178 [==============================] - 4s 4ms/step - loss: 0.0066 - val_loss: 0.0433\n",
      "Epoch 2/10\n",
      "1178/1178 [==============================] - 4s 3ms/step - loss: 0.0037 - val_loss: 0.0139\n",
      "Epoch 3/10\n",
      "1178/1178 [==============================] - 4s 3ms/step - loss: 0.0031 - val_loss: 2.5690e-04\n",
      "Epoch 4/10\n",
      "1178/1178 [==============================] - 4s 3ms/step - loss: 0.0028 - val_loss: 0.0016\n",
      "Epoch 5/10\n",
      "1178/1178 [==============================] - 4s 3ms/step - loss: 0.0026 - val_loss: 2.0242e-04\n",
      "Epoch 6/10\n",
      "1178/1178 [==============================] - 4s 3ms/step - loss: 0.0026 - val_loss: 5.2223e-04\n",
      "Epoch 7/10\n",
      "1178/1178 [==============================] - 4s 3ms/step - loss: 0.0024 - val_loss: 2.7575e-04\n",
      "Epoch 8/10\n",
      "1178/1178 [==============================] - 4s 3ms/step - loss: 0.0023 - val_loss: 2.0399e-04\n"
     ]
    },
    {
     "data": {
      "text/plain": [
       "<tensorflow.python.keras.callbacks.History at 0x26325163b70>"
      ]
     },
     "execution_count": 26,
     "metadata": {},
     "output_type": "execute_result"
    }
   ],
   "source": [
    "model.fit_generator(generator, epochs=10, validation_data = val_generator, callbacks=[early_stop])"
   ]
  },
  {
   "cell_type": "code",
   "execution_count": 27,
   "id": "eb51dfe5",
   "metadata": {},
   "outputs": [],
   "source": [
    "loss = pd.DataFrame(model.history.history)"
   ]
  },
  {
   "cell_type": "code",
   "execution_count": 28,
   "id": "e926dbca",
   "metadata": {},
   "outputs": [
    {
     "data": {
      "text/html": [
       "<div>\n",
       "<style scoped>\n",
       "    .dataframe tbody tr th:only-of-type {\n",
       "        vertical-align: middle;\n",
       "    }\n",
       "\n",
       "    .dataframe tbody tr th {\n",
       "        vertical-align: top;\n",
       "    }\n",
       "\n",
       "    .dataframe thead th {\n",
       "        text-align: right;\n",
       "    }\n",
       "</style>\n",
       "<table border=\"1\" class=\"dataframe\">\n",
       "  <thead>\n",
       "    <tr style=\"text-align: right;\">\n",
       "      <th></th>\n",
       "      <th>loss</th>\n",
       "      <th>val_loss</th>\n",
       "    </tr>\n",
       "  </thead>\n",
       "  <tbody>\n",
       "    <tr>\n",
       "      <th>0</th>\n",
       "      <td>0.006639</td>\n",
       "      <td>0.043349</td>\n",
       "    </tr>\n",
       "    <tr>\n",
       "      <th>1</th>\n",
       "      <td>0.003659</td>\n",
       "      <td>0.013941</td>\n",
       "    </tr>\n",
       "    <tr>\n",
       "      <th>2</th>\n",
       "      <td>0.003076</td>\n",
       "      <td>0.000257</td>\n",
       "    </tr>\n",
       "    <tr>\n",
       "      <th>3</th>\n",
       "      <td>0.002781</td>\n",
       "      <td>0.001637</td>\n",
       "    </tr>\n",
       "    <tr>\n",
       "      <th>4</th>\n",
       "      <td>0.002595</td>\n",
       "      <td>0.000202</td>\n",
       "    </tr>\n",
       "  </tbody>\n",
       "</table>\n",
       "</div>"
      ],
      "text/plain": [
       "       loss  val_loss\n",
       "0  0.006639  0.043349\n",
       "1  0.003659  0.013941\n",
       "2  0.003076  0.000257\n",
       "3  0.002781  0.001637\n",
       "4  0.002595  0.000202"
      ]
     },
     "execution_count": 28,
     "metadata": {},
     "output_type": "execute_result"
    }
   ],
   "source": [
    "loss.head()"
   ]
  },
  {
   "cell_type": "code",
   "execution_count": 29,
   "id": "5e37be55",
   "metadata": {},
   "outputs": [
    {
     "data": {
      "text/plain": [
       "<AxesSubplot:>"
      ]
     },
     "execution_count": 29,
     "metadata": {},
     "output_type": "execute_result"
    },
    {
     "data": {
      "image/png": "[encoded data removed]",
      "text/plain": [
       "<Figure size 432x288 with 1 Axes>"
      ]
     },
     "metadata": {
      "needs_background": "light"
     },
     "output_type": "display_data"
    }
   ],
   "source": [
    "loss.plot()"
   ]
  },
  {
   "cell_type": "markdown",
   "id": "a568a96f",
   "metadata": {},
   "source": [
    "# Model evaluation"
   ]
  },
  {
   "cell_type": "code",
   "execution_count": 30,
   "id": "3dfbb80c",
   "metadata": {},
   "outputs": [],
   "source": [
    "# Forecast using the last 29 days from the dataset\n",
    "predictions = []\n",
    "\n",
    "first_eval_batch = train_scaled_data[-length:]\n",
    "current_batch = first_eval_batch.reshape((1, length, num_features))\n",
    "\n",
    "for i in range(len(test_data)):\n",
    "    \n",
    "    # get prediction 1 time stamp ahead ([0] is for grabbing just the number instead of [array])\n",
    "    current_pred = model.predict(current_batch)[0]\n",
    "    \n",
    "    # store prediction\n",
    "    predictions.append(current_pred) \n",
    "    \n",
    "    # update batch to now include prediction and drop first value\n",
    "    current_batch = np.append(current_batch[:,1:,:],[[current_pred]],axis=1)"
   ]
  },
  {
   "cell_type": "code",
   "execution_count": 31,
   "id": "ce4899a2",
   "metadata": {},
   "outputs": [
    {
     "name": "stderr",
     "output_type": "stream",
     "text": [
      "C:\\Users\\19810\\AppData\\Roaming\\Python\\Python36\\site-packages\\ipykernel_launcher.py:2: SettingWithCopyWarning: \n",
      "A value is trying to be set on a copy of a slice from a DataFrame.\n",
      "Try using .loc[row_indexer,col_indexer] = value instead\n",
      "\n",
      "See the caveats in the documentation: https://pandas.pydata.org/pandas-docs/stable/user_guide/indexing.html#returning-a-view-versus-a-copy\n",
      "  \n"
     ]
    }
   ],
   "source": [
    "predictions_inverse_scaled = scaler.inverse_transform(predictions)\n",
    "test_data['predictions'] = predictions_inverse_scaled"
   ]
  },
  {
   "cell_type": "code",
   "execution_count": 32,
   "id": "58fcea65",
   "metadata": {},
   "outputs": [
    {
     "data": {
      "text/html": [
       "<div>\n",
       "<style scoped>\n",
       "    .dataframe tbody tr th:only-of-type {\n",
       "        vertical-align: middle;\n",
       "    }\n",
       "\n",
       "    .dataframe tbody tr th {\n",
       "        vertical-align: top;\n",
       "    }\n",
       "\n",
       "    .dataframe thead th {\n",
       "        text-align: right;\n",
       "    }\n",
       "</style>\n",
       "<table border=\"1\" class=\"dataframe\">\n",
       "  <thead>\n",
       "    <tr style=\"text-align: right;\">\n",
       "      <th></th>\n",
       "      <th>GasRate</th>\n",
       "      <th>predictions</th>\n",
       "    </tr>\n",
       "    <tr>\n",
       "      <th>Date</th>\n",
       "      <th></th>\n",
       "      <th></th>\n",
       "    </tr>\n",
       "  </thead>\n",
       "  <tbody>\n",
       "    <tr>\n",
       "      <th>2018-12-01</th>\n",
       "      <td>1533.14</td>\n",
       "      <td>1569.300243</td>\n",
       "    </tr>\n",
       "    <tr>\n",
       "      <th>2018-12-02</th>\n",
       "      <td>1574.72</td>\n",
       "      <td>1570.474190</td>\n",
       "    </tr>\n",
       "    <tr>\n",
       "      <th>2018-12-03</th>\n",
       "      <td>1561.86</td>\n",
       "      <td>1568.799334</td>\n",
       "    </tr>\n",
       "    <tr>\n",
       "      <th>2018-12-04</th>\n",
       "      <td>1521.92</td>\n",
       "      <td>1566.700280</td>\n",
       "    </tr>\n",
       "    <tr>\n",
       "      <th>2018-12-05</th>\n",
       "      <td>1554.96</td>\n",
       "      <td>1564.567714</td>\n",
       "    </tr>\n",
       "    <tr>\n",
       "      <th>2018-12-06</th>\n",
       "      <td>1555.53</td>\n",
       "      <td>1562.511860</td>\n",
       "    </tr>\n",
       "    <tr>\n",
       "      <th>2018-12-07</th>\n",
       "      <td>1509.38</td>\n",
       "      <td>1560.441420</td>\n",
       "    </tr>\n",
       "    <tr>\n",
       "      <th>2018-12-08</th>\n",
       "      <td>1559.58</td>\n",
       "      <td>1558.477643</td>\n",
       "    </tr>\n",
       "    <tr>\n",
       "      <th>2018-12-09</th>\n",
       "      <td>1575.62</td>\n",
       "      <td>1556.364895</td>\n",
       "    </tr>\n",
       "    <tr>\n",
       "      <th>2018-12-10</th>\n",
       "      <td>1520.30</td>\n",
       "      <td>1554.361592</td>\n",
       "    </tr>\n",
       "    <tr>\n",
       "      <th>2018-12-11</th>\n",
       "      <td>1578.62</td>\n",
       "      <td>1552.553798</td>\n",
       "    </tr>\n",
       "    <tr>\n",
       "      <th>2018-12-12</th>\n",
       "      <td>1573.28</td>\n",
       "      <td>1550.677866</td>\n",
       "    </tr>\n",
       "    <tr>\n",
       "      <th>2018-12-13</th>\n",
       "      <td>1530.27</td>\n",
       "      <td>1548.861833</td>\n",
       "    </tr>\n",
       "    <tr>\n",
       "      <th>2018-12-14</th>\n",
       "      <td>1581.76</td>\n",
       "      <td>1547.083656</td>\n",
       "    </tr>\n",
       "    <tr>\n",
       "      <th>2018-12-15</th>\n",
       "      <td>1566.69</td>\n",
       "      <td>1545.316278</td>\n",
       "    </tr>\n",
       "    <tr>\n",
       "      <th>2018-12-16</th>\n",
       "      <td>1525.98</td>\n",
       "      <td>1543.567160</td>\n",
       "    </tr>\n",
       "    <tr>\n",
       "      <th>2018-12-17</th>\n",
       "      <td>1581.06</td>\n",
       "      <td>1541.840643</td>\n",
       "    </tr>\n",
       "    <tr>\n",
       "      <th>2018-12-18</th>\n",
       "      <td>1565.37</td>\n",
       "      <td>1540.136839</td>\n",
       "    </tr>\n",
       "    <tr>\n",
       "      <th>2018-12-19</th>\n",
       "      <td>1528.28</td>\n",
       "      <td>1538.456639</td>\n",
       "    </tr>\n",
       "    <tr>\n",
       "      <th>2018-12-20</th>\n",
       "      <td>1577.80</td>\n",
       "      <td>1536.800042</td>\n",
       "    </tr>\n",
       "    <tr>\n",
       "      <th>2018-12-21</th>\n",
       "      <td>1543.83</td>\n",
       "      <td>1535.166270</td>\n",
       "    </tr>\n",
       "    <tr>\n",
       "      <th>2018-12-22</th>\n",
       "      <td>1531.07</td>\n",
       "      <td>1533.555990</td>\n",
       "    </tr>\n",
       "    <tr>\n",
       "      <th>2018-12-23</th>\n",
       "      <td>1572.59</td>\n",
       "      <td>1531.969091</td>\n",
       "    </tr>\n",
       "    <tr>\n",
       "      <th>2018-12-24</th>\n",
       "      <td>1545.60</td>\n",
       "      <td>1530.404236</td>\n",
       "    </tr>\n",
       "    <tr>\n",
       "      <th>2018-12-25</th>\n",
       "      <td>1531.33</td>\n",
       "      <td>1528.861427</td>\n",
       "    </tr>\n",
       "    <tr>\n",
       "      <th>2018-12-26</th>\n",
       "      <td>1557.62</td>\n",
       "      <td>1527.340329</td>\n",
       "    </tr>\n",
       "    <tr>\n",
       "      <th>2018-12-27</th>\n",
       "      <td>1523.56</td>\n",
       "      <td>1525.840385</td>\n",
       "    </tr>\n",
       "    <tr>\n",
       "      <th>2018-12-28</th>\n",
       "      <td>1536.20</td>\n",
       "      <td>1524.361595</td>\n",
       "    </tr>\n",
       "    <tr>\n",
       "      <th>2018-12-29</th>\n",
       "      <td>1530.05</td>\n",
       "      <td>1522.903179</td>\n",
       "    </tr>\n",
       "    <tr>\n",
       "      <th>2018-12-30</th>\n",
       "      <td>1543.83</td>\n",
       "      <td>1521.465362</td>\n",
       "    </tr>\n",
       "  </tbody>\n",
       "</table>\n",
       "</div>"
      ],
      "text/plain": [
       "            GasRate  predictions\n",
       "Date                            \n",
       "2018-12-01  1533.14  1569.300243\n",
       "2018-12-02  1574.72  1570.474190\n",
       "2018-12-03  1561.86  1568.799334\n",
       "2018-12-04  1521.92  1566.700280\n",
       "2018-12-05  1554.96  1564.567714\n",
       "2018-12-06  1555.53  1562.511860\n",
       "2018-12-07  1509.38  1560.441420\n",
       "2018-12-08  1559.58  1558.477643\n",
       "2018-12-09  1575.62  1556.364895\n",
       "2018-12-10  1520.30  1554.361592\n",
       "2018-12-11  1578.62  1552.553798\n",
       "2018-12-12  1573.28  1550.677866\n",
       "2018-12-13  1530.27  1548.861833\n",
       "2018-12-14  1581.76  1547.083656\n",
       "2018-12-15  1566.69  1545.316278\n",
       "2018-12-16  1525.98  1543.567160\n",
       "2018-12-17  1581.06  1541.840643\n",
       "2018-12-18  1565.37  1540.136839\n",
       "2018-12-19  1528.28  1538.456639\n",
       "2018-12-20  1577.80  1536.800042\n",
       "2018-12-21  1543.83  1535.166270\n",
       "2018-12-22  1531.07  1533.555990\n",
       "2018-12-23  1572.59  1531.969091\n",
       "2018-12-24  1545.60  1530.404236\n",
       "2018-12-25  1531.33  1528.861427\n",
       "2018-12-26  1557.62  1527.340329\n",
       "2018-12-27  1523.56  1525.840385\n",
       "2018-12-28  1536.20  1524.361595\n",
       "2018-12-29  1530.05  1522.903179\n",
       "2018-12-30  1543.83  1521.465362"
      ]
     },
     "execution_count": 32,
     "metadata": {},
     "output_type": "execute_result"
    }
   ],
   "source": [
    "test_data"
   ]
  },
  {
   "cell_type": "code",
   "execution_count": 33,
   "id": "1764d6ff",
   "metadata": {},
   "outputs": [
    {
     "data": {
      "text/plain": [
       "<AxesSubplot:xlabel='Date'>"
      ]
     },
     "execution_count": 33,
     "metadata": {},
     "output_type": "execute_result"
    },
    {
     "data": {
      "image/png": "[encoded data removed]",
      "text/plain": [
       "<Figure size 432x288 with 1 Axes>"
      ]
     },
     "metadata": {
      "needs_background": "light"
     },
     "output_type": "display_data"
    }
   ],
   "source": [
    "test_data.plot()"
   ]
  },
  {
   "cell_type": "code",
   "execution_count": 34,
   "id": "85a7fa2e",
   "metadata": {},
   "outputs": [
    {
     "name": "stdout",
     "output_type": "stream",
     "text": [
      "24.97015240749598\n"
     ]
    }
   ],
   "source": [
    "from sklearn.metrics import mean_squared_error\n",
    "from math import sqrt\n",
    "rmse=sqrt(mean_squared_error(test_data['GasRate'],test_data['predictions']))\n",
    "print(rmse)"
   ]
  },
  {
   "cell_type": "markdown",
   "id": "acd8a7b1",
   "metadata": {},
   "source": [
    "# Forecast new data"
   ]
  },
  {
   "cell_type": "code",
   "execution_count": 35,
   "id": "5f77f12e",
   "metadata": {},
   "outputs": [],
   "source": [
    "full_scaler = MinMaxScaler()\n",
    "data_scaled = full_scaler.fit_transform(df) # scale the whole dataset"
   ]
  },
  {
   "cell_type": "code",
   "execution_count": 36,
   "id": "f0a654b8",
   "metadata": {},
   "outputs": [],
   "source": [
    "length = 12 # Length of the output sequences \n",
    "n_features =  1\n",
    "generator = TimeseriesGenerator(data_scaled, data_scaled, length=length, batch_size=1)"
   ]
  },
  {
   "cell_type": "code",
   "execution_count": 37,
   "id": "20a85e2f",
   "metadata": {},
   "outputs": [
    {
     "name": "stdout",
     "output_type": "stream",
     "text": [
      "Epoch 1/8\n",
      "1208/1208 [==============================] - 5s 4ms/step - loss: 0.0055\n",
      "Epoch 2/8\n",
      "1208/1208 [==============================] - 4s 4ms/step - loss: 0.0032\n",
      "Epoch 3/8\n",
      "1208/1208 [==============================] - 5s 4ms/step - loss: 0.0029\n",
      "Epoch 4/8\n",
      "1208/1208 [==============================] - 5s 4ms/step - loss: 0.0026\n",
      "Epoch 5/8\n",
      "1208/1208 [==============================] - 4s 4ms/step - loss: 0.0025\n",
      "Epoch 6/8\n",
      "1208/1208 [==============================] - 4s 4ms/step - loss: 0.0024\n",
      "Epoch 7/8\n",
      "1208/1208 [==============================] - 4s 4ms/step - loss: 0.0023\n",
      "Epoch 8/8\n",
      "1208/1208 [==============================] - 4s 4ms/step - loss: 0.0023\n"
     ]
    },
    {
     "data": {
      "text/plain": [
       "<tensorflow.python.keras.callbacks.History at 0x263299c6a58>"
      ]
     },
     "execution_count": 37,
     "metadata": {},
     "output_type": "execute_result"
    }
   ],
   "source": [
    "model = Sequential()\n",
    "model.add(LSTM(200, activation='tanh', input_shape=(length, n_features)))\n",
    "model.add(Dense(1))\n",
    "model.compile(optimizer='adam', loss='mse')\n",
    "\n",
    "\n",
    "# fit model\n",
    "model.fit_generator(generator,epochs=8)"
   ]
  },
  {
   "cell_type": "code",
   "execution_count": 38,
   "id": "c09d3626",
   "metadata": {},
   "outputs": [],
   "source": [
    "# create for loop to predict the values of each of the following 12 months \n",
    "forecast = []\n",
    "periods = 12\n",
    "\n",
    "first_eval_batch = data_scaled[-length:]\n",
    "current_batch = first_eval_batch.reshape((1, length, n_features))\n",
    "\n",
    "for i in range(periods):\n",
    "    \n",
    "    # get prediction 1 time stamp ahead \n",
    "    current_pred = model.predict(current_batch)[0]\n",
    "    \n",
    "    # store prediction\n",
    "    forecast.append(current_pred) \n",
    "    \n",
    "    # update batch to now include prediction and drop first value\n",
    "    current_batch = np.append(current_batch[:,1:,:],[[current_pred]],axis=1)"
   ]
  },
  {
   "cell_type": "code",
   "execution_count": 39,
   "id": "eae75042",
   "metadata": {},
   "outputs": [],
   "source": [
    "forecast = scaler.inverse_transform(forecast) # inverse the scaled data"
   ]
  },
  {
   "cell_type": "code",
   "execution_count": 40,
   "id": "1ed30f22",
   "metadata": {},
   "outputs": [],
   "source": [
    "index = pd.date_range(start='2019-01-01',periods=periods,freq='MS') # create a time stamp for the new predictions\n",
    "forecast_df = pd.DataFrame(data=forecast,index=index,columns=['Forecast'])# create a dataframe of the predictions"
   ]
  },
  {
   "cell_type": "code",
   "execution_count": 41,
   "id": "e350a1d7",
   "metadata": {},
   "outputs": [
    {
     "data": {
      "text/plain": [
       "<AxesSubplot:xlabel='Date'>"
      ]
     },
     "execution_count": 41,
     "metadata": {},
     "output_type": "execute_result"
    },
    {
     "data": {
      "image/png": "[encoded data removed]",
      "text/plain": [
       "<Figure size 432x288 with 1 Axes>"
      ]
     },
     "metadata": {
      "needs_background": "light"
     },
     "output_type": "display_data"
    }
   ],
   "source": [
    "# plot the predictions and the original dataset\n",
    "ax = df.plot()\n",
    "forecast_df.plot(ax=ax)"
   ]
  },
  {
   "cell_type": "code",
   "execution_count": 42,
   "id": "dcd5bb00",
   "metadata": {},
   "outputs": [
    {
     "data": {
      "text/html": [
       "<div>\n",
       "<style scoped>\n",
       "    .dataframe tbody tr th:only-of-type {\n",
       "        vertical-align: middle;\n",
       "    }\n",
       "\n",
       "    .dataframe tbody tr th {\n",
       "        vertical-align: top;\n",
       "    }\n",
       "\n",
       "    .dataframe thead th {\n",
       "        text-align: right;\n",
       "    }\n",
       "</style>\n",
       "<table border=\"1\" class=\"dataframe\">\n",
       "  <thead>\n",
       "    <tr style=\"text-align: right;\">\n",
       "      <th></th>\n",
       "      <th>Forecast</th>\n",
       "    </tr>\n",
       "  </thead>\n",
       "  <tbody>\n",
       "    <tr>\n",
       "      <th>2019-01-01</th>\n",
       "      <td>1565.703806</td>\n",
       "    </tr>\n",
       "    <tr>\n",
       "      <th>2019-02-01</th>\n",
       "      <td>1580.446058</td>\n",
       "    </tr>\n",
       "    <tr>\n",
       "      <th>2019-03-01</th>\n",
       "      <td>1592.276378</td>\n",
       "    </tr>\n",
       "    <tr>\n",
       "      <th>2019-04-01</th>\n",
       "      <td>1603.431322</td>\n",
       "    </tr>\n",
       "    <tr>\n",
       "      <th>2019-05-01</th>\n",
       "      <td>1614.233770</td>\n",
       "    </tr>\n",
       "    <tr>\n",
       "      <th>2019-06-01</th>\n",
       "      <td>1624.727813</td>\n",
       "    </tr>\n",
       "    <tr>\n",
       "      <th>2019-07-01</th>\n",
       "      <td>1635.034696</td>\n",
       "    </tr>\n",
       "    <tr>\n",
       "      <th>2019-08-01</th>\n",
       "      <td>1645.174461</td>\n",
       "    </tr>\n",
       "    <tr>\n",
       "      <th>2019-09-01</th>\n",
       "      <td>1655.106359</td>\n",
       "    </tr>\n",
       "    <tr>\n",
       "      <th>2019-10-01</th>\n",
       "      <td>1664.898750</td>\n",
       "    </tr>\n",
       "    <tr>\n",
       "      <th>2019-11-01</th>\n",
       "      <td>1674.518233</td>\n",
       "    </tr>\n",
       "    <tr>\n",
       "      <th>2019-12-01</th>\n",
       "      <td>1683.970487</td>\n",
       "    </tr>\n",
       "  </tbody>\n",
       "</table>\n",
       "</div>"
      ],
      "text/plain": [
       "               Forecast\n",
       "2019-01-01  1565.703806\n",
       "2019-02-01  1580.446058\n",
       "2019-03-01  1592.276378\n",
       "2019-04-01  1603.431322\n",
       "2019-05-01  1614.233770\n",
       "2019-06-01  1624.727813\n",
       "2019-07-01  1635.034696\n",
       "2019-08-01  1645.174461\n",
       "2019-09-01  1655.106359\n",
       "2019-10-01  1664.898750\n",
       "2019-11-01  1674.518233\n",
       "2019-12-01  1683.970487"
      ]
     },
     "execution_count": 42,
     "metadata": {},
     "output_type": "execute_result"
    }
   ],
   "source": [
    "forecast_df"
   ]
  },
  {
   "cell_type": "code",
   "execution_count": 43,
   "id": "67a58053",
   "metadata": {},
   "outputs": [],
   "source": [
    "forecast_df.to_csv('forecast.csv')"
   ]
  },
  {
   "cell_type": "code",
   "execution_count": 44,
   "id": "f7844c7b",
   "metadata": {},
   "outputs": [],
   "source": [
    "model.save(\"univariate_predictions.h5\")"
   ]
  },
  {
   "cell_type": "code",
   "execution_count": 45,
   "id": "eef21d33",
   "metadata": {},
   "outputs": [],
   "source": [
    "from tensorflow.keras.models import load_model\n",
    "uni_model = load_model(\"univariate_predictions.h5\")"
   ]
  },
  {
   "cell_type": "code",
   "execution_count": null,
   "id": "bb837497",
   "metadata": {},
   "outputs": [],
   "source": []
  },
  {
   "cell_type": "code",
   "execution_count": 46,
   "id": "1b28a671",
   "metadata": {},
   "outputs": [],
   "source": [
    "# create for loop to predict the values of each of the following 12 months \n",
    "forecast1 = []\n",
    "periods2 = 3\n",
    "\n",
    "first_eval_batch = data_scaled[-length:]\n",
    "current_batch = first_eval_batch.reshape((1, length, n_features))\n",
    "\n",
    "for i in range(periods2):\n",
    "    \n",
    "    # get prediction 1 time stamp ahead \n",
    "    current_pred = uni_model.predict(current_batch)[0]\n",
    "    \n",
    "    # store prediction\n",
    "    forecast1.append(current_pred) \n",
    "    \n",
    "    # update batch to now include prediction and drop first value\n",
    "    current_batch = np.append(current_batch[:,1:,:],[[current_pred]],axis=1)"
   ]
  },
  {
   "cell_type": "code",
   "execution_count": 47,
   "id": "19ca7788",
   "metadata": {},
   "outputs": [],
   "source": [
    "forecast1 = scaler.inverse_transform(forecast1) # inverse the scaled data"
   ]
  },
  {
   "cell_type": "code",
   "execution_count": 48,
   "id": "5abc0b1b",
   "metadata": {},
   "outputs": [],
   "source": [
    "index = pd.date_range(start='2019-01-01',periods=periods2,freq='MS') # create a time stamp for the new predictions\n",
    "forecast_df1 = pd.DataFrame(data=forecast1,index=index,columns=['Forecast'])# create a dataframe of the predictions"
   ]
  },
  {
   "cell_type": "code",
   "execution_count": 49,
   "id": "03482b37",
   "metadata": {},
   "outputs": [
    {
     "data": {
      "text/plain": [
       "<AxesSubplot:xlabel='Date'>"
      ]
     },
     "execution_count": 49,
     "metadata": {},
     "output_type": "execute_result"
    },
    {
     "data": {
      "image/png": "[encoded data removed]",
      "text/plain": [
       "<Figure size 432x288 with 1 Axes>"
      ]
     },
     "metadata": {
      "needs_background": "light"
     },
     "output_type": "display_data"
    }
   ],
   "source": [
    "# plot the predictions and the original dataset\n",
    "ax = df.plot()\n",
    "forecast_df1.plot(ax=ax)"
   ]
  },
  {
   "cell_type": "code",
   "execution_count": 50,
   "id": "2a48dde8",
   "metadata": {},
   "outputs": [
    {
     "data": {
      "text/html": [
       "<div>\n",
       "<style scoped>\n",
       "    .dataframe tbody tr th:only-of-type {\n",
       "        vertical-align: middle;\n",
       "    }\n",
       "\n",
       "    .dataframe tbody tr th {\n",
       "        vertical-align: top;\n",
       "    }\n",
       "\n",
       "    .dataframe thead th {\n",
       "        text-align: right;\n",
       "    }\n",
       "</style>\n",
       "<table border=\"1\" class=\"dataframe\">\n",
       "  <thead>\n",
       "    <tr style=\"text-align: right;\">\n",
       "      <th></th>\n",
       "      <th>Forecast</th>\n",
       "    </tr>\n",
       "  </thead>\n",
       "  <tbody>\n",
       "    <tr>\n",
       "      <th>2019-01-01</th>\n",
       "      <td>1565.703806</td>\n",
       "    </tr>\n",
       "    <tr>\n",
       "      <th>2019-02-01</th>\n",
       "      <td>1580.446058</td>\n",
       "    </tr>\n",
       "    <tr>\n",
       "      <th>2019-03-01</th>\n",
       "      <td>1592.276378</td>\n",
       "    </tr>\n",
       "  </tbody>\n",
       "</table>\n",
       "</div>"
      ],
      "text/plain": [
       "               Forecast\n",
       "2019-01-01  1565.703806\n",
       "2019-02-01  1580.446058\n",
       "2019-03-01  1592.276378"
      ]
     },
     "execution_count": 50,
     "metadata": {},
     "output_type": "execute_result"
    }
   ],
   "source": [
    "forecast_df1"
   ]
  },
  {
   "cell_type": "code",
   "execution_count": null,
   "id": "1ae8673f",
   "metadata": {},
   "outputs": [],
   "source": []
  },
  {
   "cell_type": "code",
   "execution_count": null,
   "id": "80d1cf81",
   "metadata": {},
   "outputs": [],
   "source": []
  },
  {
   "cell_type": "code",
   "execution_count": null,
   "id": "f51e0a09",
   "metadata": {},
   "outputs": [],
   "source": []
  },
  {
   "cell_type": "code",
   "execution_count": null,
   "id": "ae81c2b3",
   "metadata": {},
   "outputs": [],
   "source": []
  }
 ],
 "metadata": {
  "kernelspec": {
   "display_name": "Python 3",
   "language": "python",
   "name": "python3"
  },
  "language_info": {
   "codemirror_mode": {
    "name": "ipython",
    "version": 3
   },
   "file_extension": ".py",
   "mimetype": "text/x-python",
   "name": "python",
   "nbconvert_exporter": "python",
   "pygments_lexer": "ipython3",
   "version": "3.6.13"
  }
 },
 "nbformat": 4,
 "nbformat_minor": 5
}
